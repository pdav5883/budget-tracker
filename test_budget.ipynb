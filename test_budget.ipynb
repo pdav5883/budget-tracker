{
 "cells": [
  {
   "cell_type": "markdown",
   "id": "d5df54c8",
   "metadata": {},
   "source": [
    "# Test Budget Tracker Element\n"
   ]
  },
  {
   "cell_type": "code",
   "execution_count": null,
   "id": "a5574f9a",
   "metadata": {},
   "outputs": [],
   "source": [
    "import json\n",
    "import boto3\n",
    "import requests\n",
    "from IPython.display import clear_output"
   ]
  },
  {
   "cell_type": "code",
   "execution_count": null,
   "id": "2dc47980",
   "metadata": {},
   "outputs": [],
   "source": [
    "import plaid\n",
    "from plaid.api import plaid_api\n",
    "from plaid.model.transactions_sync_request import TransactionsSyncRequest"
   ]
  },
  {
   "cell_type": "markdown",
   "id": "afd80483",
   "metadata": {},
   "source": [
    "## Get Parameters from AWS"
   ]
  },
  {
   "cell_type": "code",
   "execution_count": null,
   "id": "5bddac23",
   "metadata": {},
   "outputs": [],
   "source": [
    "ssm = boto3.client(\"ssm\")\n",
    "plaid_client_id = ssm.get_parameter(Name=\"plaid-client-id\")[\"Parameter\"][\"Value\"]\n",
    "plaid_secret = ssm.get_parameter(Name=\"plaid-secret-dev\")[\"Parameter\"][\"Value\"]\n",
    "plaid_access = ssm.get_parameter(Name=\"plaid-access-token-amex-dev\")[\"Parameter\"][\"Value\"]\n",
    "next_cursor = ssm.get_parameter(Name=\"plaid-next-cursor-amex-dev\")[\"Parameter\"][\"Value\"]"
   ]
  },
  {
   "cell_type": "markdown",
   "id": "ba0f7d85",
   "metadata": {},
   "source": [
    "## Plaid API\n",
    "Access ID retrieved with Quickstart Link session"
   ]
  },
  {
   "cell_type": "code",
   "execution_count": null,
   "id": "fd555459",
   "metadata": {},
   "outputs": [],
   "source": [
    "host = plaid.Environment.Development\n",
    "\n",
    "configuration = plaid.Configuration(                               \n",
    "    host=host,\n",
    "    api_key={\n",
    "        'clientId': plaid_client_id,                               \n",
    "        'secret': plaid_secret,\n",
    "        'plaidVersion': '2020-09-14'                               \n",
    "    }   \n",
    ")\n",
    "\n",
    "api_client = plaid.ApiClient(configuration)                        \n",
    "client = plaid_api.PlaidApi(api_client)"
   ]
  },
  {
   "cell_type": "markdown",
   "id": "bc70cb5e",
   "metadata": {},
   "source": [
    "## Sync Transactions"
   ]
  },
  {
   "cell_type": "code",
   "execution_count": null,
   "id": "a18bc9f2",
   "metadata": {},
   "outputs": [],
   "source": [
    "cursor = \"\" # use this to start from beginning\n",
    "# cursor = next_cursor\n",
    "\n",
    "if cursor == \"null\":\n",
    "    cursor = \"\"\n",
    "    \n",
    "has_more = True\n",
    "\n",
    "added = []\n",
    "modified = []\n",
    "removed = []\n",
    "\n",
    "while has_more:\n",
    "    request = TransactionsSyncRequest(access_token=plaid_access, cursor=cursor)\n",
    "    response = client.transactions_sync(request)\n",
    "    \n",
    "    added.extend(response[\"added\"])\n",
    "    modified.extend(response[\"modified\"])\n",
    "    removed.extend(response[\"removed\"])\n",
    "    \n",
    "    has_more = response[\"has_more\"]\n",
    "    cursor = response[\"next_cursor\"]\n",
    "    \n",
    "print(\"Sync'd {} additions, {} modifications, {} removals\".format(len(added), len(modified), len(removed)))"
   ]
  },
  {
   "cell_type": "code",
   "execution_count": null,
   "id": "2091a244",
   "metadata": {},
   "outputs": [],
   "source": [
    "rid = [r[\"transaction_id\"] for r in removed]\n",
    "\n",
    "for a in added:\n",
    "    print(a)"
   ]
  },
  {
   "cell_type": "markdown",
   "id": "85f0fc4a",
   "metadata": {},
   "source": [
    "## Update Cursor in SSM\n",
    "Set to null to start over"
   ]
  },
  {
   "cell_type": "code",
   "execution_count": null,
   "id": "958d2c18",
   "metadata": {},
   "outputs": [],
   "source": [
    "res = ssm.put_parameter(Name=\"plaid-next-cursor-amex-dev\", Value=cursor, Overwrite=True)"
   ]
  },
  {
   "cell_type": "code",
   "execution_count": null,
   "id": "ab54c7f5",
   "metadata": {},
   "outputs": [],
   "source": [
    "next_cursor"
   ]
  },
  {
   "cell_type": "markdown",
   "id": "86583cc4",
   "metadata": {},
   "source": [
    "## Write to JSON"
   ]
  },
  {
   "cell_type": "code",
   "execution_count": null,
   "id": "b9e1f23a",
   "metadata": {},
   "outputs": [],
   "source": [
    "added_dict = [str(t.to_dict()) for t in added]\n",
    "\n",
    "with open(\"amex_dev_20230707.json\", \"w\") as fptr:\n",
    "    json.dump(added_dict, fptr, default=str)"
   ]
  },
  {
   "cell_type": "markdown",
   "id": "2b0fe777",
   "metadata": {},
   "source": [
    "## Write to DynamoDB"
   ]
  },
  {
   "cell_type": "code",
   "execution_count": null,
   "id": "a1aaefbe",
   "metadata": {},
   "outputs": [],
   "source": [
    "ddb = boto3.client(\"dynamodb\")\n",
    "table = \"budget-tracker-transactions\""
   ]
  },
  {
   "cell_type": "markdown",
   "id": "d0f75dfe",
   "metadata": {},
   "source": [
    "Get by ID"
   ]
  },
  {
   "cell_type": "code",
   "execution_count": null,
   "id": "3ac49ffa",
   "metadata": {},
   "outputs": [],
   "source": [
    "res = ddb.get_item(TableName=table, Key={\"id\":{\"S\": \"OgYjNaBd3MFbpZyXYa6dCMXeZjdE0xI9Kx9Eg\"}})\n",
    "\n",
    "\n",
    "def response_to_item(response):\n",
    "    r = {}\n",
    "    \n",
    "    for k, v in res[\"Item\"].items():\n",
    "        for vk in v:\n",
    "            if vk == \"N\":\n",
    "                r[k] = float(v[vk])\n",
    "            else:\n",
    "                r[k] = v[vk]\n",
    "                \n",
    "    return r\n",
    "\n",
    "print(response_to_item(res))"
   ]
  },
  {
   "cell_type": "code",
   "execution_count": null,
   "id": "fb1e71a7",
   "metadata": {},
   "outputs": [],
   "source": [
    "res"
   ]
  },
  {
   "cell_type": "markdown",
   "id": "e998793a",
   "metadata": {},
   "source": [
    "Edit Field"
   ]
  },
  {
   "cell_type": "code",
   "execution_count": null,
   "id": "bbc9fbe1",
   "metadata": {},
   "outputs": [],
   "source": [
    "res = ddb.update_item(TableName=table, Key={\"id\":{\"S\": \"VwYZN1MqjbiRZYgKED3qcNyeA8wV14iKN4Kgn\"}},\n",
    "                      UpdateExpression=\"set description=:d\",\n",
    "                      ExpressionAttributeValues={\":d\": {\"S\":\"Harris and Teeter\"}})"
   ]
  },
  {
   "cell_type": "code",
   "execution_count": null,
   "id": "ac27affd",
   "metadata": {},
   "outputs": [],
   "source": [
    "res = ddb.update_item(TableName=table, Key={\"id\":{\"S\": \"testid003\"}},\n",
    "                      UpdateExpression=\"set #M=:m, category=:c\",\n",
    "                      ExpressionAttributeNames={\"#M\": \"month\"},\n",
    "                      ExpressionAttributeValues={\":m\": {\"S\":\"Jun\"}, \":c\": {\"S\": \"Groceries\"}})"
   ]
  },
  {
   "cell_type": "markdown",
   "id": "6b7d88f3",
   "metadata": {},
   "source": [
    "Add item\n",
    "\n",
    "Will raise ConditionCheckFailedException if id already exists"
   ]
  },
  {
   "cell_type": "code",
   "execution_count": null,
   "id": "18507236",
   "metadata": {},
   "outputs": [],
   "source": [
    "res = ddb.put_item(TableName=table,\n",
    "                   Item={\"id\": {\"S\": \"testid003\"},\n",
    "                         \"amount\": {\"N\": \"21.03\"}},\n",
    "                   ConditionExpression=\"attribute_not_exists(id)\")"
   ]
  },
  {
   "cell_type": "markdown",
   "id": "e62cc1ab",
   "metadata": {},
   "source": [
    "Query Secondary"
   ]
  },
  {
   "cell_type": "code",
   "execution_count": null,
   "id": "7dd37412",
   "metadata": {},
   "outputs": [],
   "source": [
    "res = ddb.query(TableName=table, IndexName=\"month-category-index\",\n",
    "               KeyConditionExpression=\"#M = :m AND #C = :c\",\n",
    "               ExpressionAttributeNames={\"#M\": \"month\", \"#C\": \"category\"},\n",
    "               ExpressionAttributeValues={\":m\": {\"S\": \"May 23\"}, \":c\": {\"S\": \"Groceries\"}})"
   ]
  },
  {
   "cell_type": "markdown",
   "id": "df19720d",
   "metadata": {},
   "source": [
    "## Test Login to Cognito\n",
    "Pass `response[\"AuthenticationResult\"][\"IdToken\"]` to `request[\"Authorization\"]`"
   ]
  },
  {
   "cell_type": "code",
   "execution_count": null,
   "id": "0e16c666",
   "metadata": {},
   "outputs": [],
   "source": [
    "cog = boto3.client(\"cognito-idp\")"
   ]
  },
  {
   "cell_type": "markdown",
   "id": "96ab60a1",
   "metadata": {},
   "source": [
    "Log in"
   ]
  },
  {
   "cell_type": "code",
   "execution_count": null,
   "id": "f1b26adb",
   "metadata": {},
   "outputs": [],
   "source": [
    "pwd = input()\n",
    "clear_output()"
   ]
  },
  {
   "cell_type": "code",
   "execution_count": null,
   "id": "e9af36b0",
   "metadata": {},
   "outputs": [],
   "source": [
    "resp = cog.initiate_auth(AuthFlow=\"USER_PASSWORD_AUTH\",\n",
    "                         AuthParameters={\"USERNAME\":\"peter\",\"PASSWORD\":pwd},\n",
    "                         ClientId=\"t4rpjmebifvs8adt4ktqbg16u\")\n",
    "\n",
    "idtoken = resp[\"AuthenticationResult\"][\"IdToken\"]"
   ]
  },
  {
   "cell_type": "markdown",
   "id": "45c14696",
   "metadata": {},
   "source": [
    "Need to update initial password"
   ]
  },
  {
   "cell_type": "code",
   "execution_count": null,
   "id": "182e7827",
   "metadata": {},
   "outputs": [],
   "source": [
    "resp2 = cog.respond_to_auth_challenge(ClientId=\"t4rpjmebifvs8adt4ktqbg16u\",\n",
    "                                      ChallengeName=\"NEW_PASSWORD_REQUIRED\",\n",
    "                                      Session=resp[\"Session\"],\n",
    "                                      ChallengeResponses={\"USERNAME\":\"peter\", \"NEW_PASSWORD\":\"***\"})"
   ]
  },
  {
   "cell_type": "markdown",
   "id": "ae981e72",
   "metadata": {},
   "source": [
    "Accidentally set pwd wrong, so change it"
   ]
  },
  {
   "cell_type": "code",
   "execution_count": null,
   "id": "3e988d56",
   "metadata": {},
   "outputs": [],
   "source": [
    "resp3 = cog.change_password(PreviousPassword=\"***\",\n",
    "                            ProposedPassword=\"***\",\n",
    "                            AccessToken=resp2[\"AuthenticationResult\"][\"AccessToken\"])"
   ]
  },
  {
   "cell_type": "markdown",
   "id": "d5b965e1",
   "metadata": {},
   "source": [
    "### Add to DB with secured login"
   ]
  },
  {
   "cell_type": "code",
   "execution_count": null,
   "id": "13b3052a",
   "metadata": {},
   "outputs": [],
   "source": [
    "t = [{\"id\": \"a105\", \"date\": \"2023-01-01\", \"account\": \"test_acct\", \"description\": \"test 01\", \"amount\": 1.99}]\n",
    "url = \"https://wsrxbgjqa1.execute-api.us-east-1.amazonaws.com/prod/add\"\n",
    "resp = requests.post(url, data=json.dumps(t), headers={\"Authorization\":idtoken})\n",
    "resp.status_code"
   ]
  },
  {
   "cell_type": "markdown",
   "id": "9765e2e5",
   "metadata": {},
   "source": [
    "### Query DB with Login"
   ]
  },
  {
   "cell_type": "code",
   "execution_count": null,
   "id": "321fc1f8",
   "metadata": {},
   "outputs": [],
   "source": [
    "url = \"https://wsrxbgjqa1.execute-api.us-east-1.amazonaws.com/prod/query\"\n",
    "params = {\"type\": \"month-category\", \"month\": \"May 23\", \"category\": \"Groceries\"}\n",
    "\n",
    "resp = requests.get(url, params=params, headers={\"Authorization\":idtoken})\n",
    "transactions = resp.json()"
   ]
  },
  {
   "cell_type": "markdown",
   "id": "2db333f6",
   "metadata": {},
   "source": [
    "By ID"
   ]
  },
  {
   "cell_type": "code",
   "execution_count": null,
   "id": "00de7826",
   "metadata": {},
   "outputs": [],
   "source": [
    "url = \"https://wsrxbgjqa1.execute-api.us-east-1.amazonaws.com/prod/query\"\n",
    "params = {\"type\": \"id\", \"id\": \"a101\"}\n",
    "\n",
    "resp = requests.get(url, params=params, headers={\"Authorization\":idtoken})\n",
    "transaction = resp.json()"
   ]
  },
  {
   "cell_type": "markdown",
   "id": "d594eea7",
   "metadata": {},
   "source": [
    "### Edit DB with Login"
   ]
  },
  {
   "cell_type": "code",
   "execution_count": null,
   "id": "08833a3f",
   "metadata": {},
   "outputs": [],
   "source": [
    "url = \"https://wsrxbgjqa1.execute-api.us-east-1.amazonaws.com/prod/edit\"\n",
    "params = {\"id\": \"a102\", \"amount\": 2.65, \"category\":\"Groceries\", \"checked\": \"True\"}\n",
    "# params = {\"id_list\": [\"a100\", \"a101\"]}\n",
    "resp = requests.put(url, params=params, headers={\"Authorization\":idtoken})\n",
    "resp.status_code"
   ]
  },
  {
   "cell_type": "markdown",
   "id": "c6192c54",
   "metadata": {},
   "source": [
    "### Delete by ID with Login"
   ]
  },
  {
   "cell_type": "code",
   "execution_count": null,
   "id": "1b8b7f40",
   "metadata": {},
   "outputs": [],
   "source": [
    "url = \"https://wsrxbgjqa1.execute-api.us-east-1.amazonaws.com/prod/delete\"\n",
    "params = {\"id\":\"testid2\"}\n",
    "resp = requests.delete(url, params=params, headers={\"Authorization\": idtoken})\n",
    "resp.status_code"
   ]
  },
  {
   "cell_type": "markdown",
   "id": "c0bf41f4",
   "metadata": {},
   "source": [
    "## Bulk Write/Delete to DB using SNS\n",
    "Do actual sync by running `python lambda_function.py amex /path/to/file.json` from `lambdas/sync_transactions` after copying `budget_tracker_common.py` into directory"
   ]
  },
  {
   "cell_type": "code",
   "execution_count": null,
   "id": "435c19e1",
   "metadata": {},
   "outputs": [],
   "source": [
    "topic = \"arn:aws:sns:us-east-1:014374244911:budget-tracker-add-topic\"\n",
    "\n",
    "sns = boto3.client(\"sns\")\n",
    "\n",
    "msg = [{\"id\": \"testid1\", \"date\": \"2023-01-01\", \"account\": \"test_acct\", \"description\": \"test 01\", \"amount\": 1.99},\n",
    "       {\"id\": \"testid2\", \"date\": \"2023-01-01\", \"account\": \"test_acct\", \"description\": \"test 01\", \"amount\": 1.99},\n",
    "       {\"id\": \"testid3\", \"date\": \"2023-01-01\", \"account\": \"test_acct\", \"description\": \"test 01\", \"amount\": 1.99}]\n",
    "\n",
    "res = sns.publish(TopicArn=topic, Message=json.dumps(msg))"
   ]
  },
  {
   "cell_type": "code",
   "execution_count": null,
   "id": "0e815ba9",
   "metadata": {},
   "outputs": [],
   "source": [
    "topic = \"arn:aws:sns:us-east-1:014374244911:budget-tracker-delete-topic\"\n",
    "\n",
    "sns = boto3.client(\"sns\")\n",
    "\n",
    "msg = [{\"id\": \"testid1\"},\n",
    "       {\"id\": \"testid3\"}]\n",
    "\n",
    "res = sns.publish(TopicArn=topic, Message=json.dumps(msg))"
   ]
  },
  {
   "cell_type": "code",
   "execution_count": null,
   "id": "06b329ac",
   "metadata": {},
   "outputs": [],
   "source": [
    "res"
   ]
  },
  {
   "cell_type": "code",
   "execution_count": null,
   "id": "c412d261",
   "metadata": {},
   "outputs": [],
   "source": [
    "with open(\"amex_dev_20230522.json\", \"r\") as fptr:\n",
    "    data = json.load(fptr)"
   ]
  }
 ],
 "metadata": {
  "kernelspec": {
   "display_name": "Python 3 (ipykernel)",
   "language": "python",
   "name": "python3"
  },
  "language_info": {
   "codemirror_mode": {
    "name": "ipython",
    "version": 3
   },
   "file_extension": ".py",
   "mimetype": "text/x-python",
   "name": "python",
   "nbconvert_exporter": "python",
   "pygments_lexer": "ipython3",
   "version": "3.8.14"
  }
 },
 "nbformat": 4,
 "nbformat_minor": 5
}
